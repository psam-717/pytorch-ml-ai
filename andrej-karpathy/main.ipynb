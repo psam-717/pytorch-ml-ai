{
 "cells": [
  {
   "cell_type": "markdown",
   "id": "b61a025b",
   "metadata": {},
   "source": [
    "# Andrej Karpathy Lecture on backpropagation"
   ]
  },
  {
   "cell_type": "code",
   "execution_count": 22,
   "id": "2e32ce48",
   "metadata": {},
   "outputs": [],
   "source": [
    "import math\n",
    "import numpy as np\n",
    "import matplotlib.pyplot as plt\n",
    "%matplotlib inline"
   ]
  },
  {
   "cell_type": "code",
   "execution_count": 23,
   "id": "7e4f2f37",
   "metadata": {},
   "outputs": [],
   "source": [
    "def f(x):\n",
    "    return 3*x**2 -4*x + 5"
   ]
  },
  {
   "cell_type": "code",
   "execution_count": 24,
   "id": "00b143d1",
   "metadata": {},
   "outputs": [
    {
     "data": {
      "text/plain": [
       "20"
      ]
     },
     "execution_count": 24,
     "metadata": {},
     "output_type": "execute_result"
    }
   ],
   "source": [
    "f(3)"
   ]
  },
  {
   "cell_type": "code",
   "execution_count": 25,
   "id": "cfdf3217",
   "metadata": {},
   "outputs": [
    {
     "data": {
      "text/plain": [
       "[<matplotlib.lines.Line2D at 0x1e89cc25940>]"
      ]
     },
     "execution_count": 25,
     "metadata": {},
     "output_type": "execute_result"
    },
    {
     "data": {
      "image/png": "[encoded data removed]",
      "text/plain": [
       "<Figure size 640x480 with 1 Axes>"
      ]
     },
     "metadata": {},
     "output_type": "display_data"
    }
   ],
   "source": [
    "xs =  np.arange(-5, 5, 0.25)\n",
    "ys = f(xs)\n",
    "plt.plot(xs, ys)"
   ]
  },
  {
   "cell_type": "code",
   "execution_count": 36,
   "id": "629b2c87",
   "metadata": {},
   "outputs": [
    {
     "data": {
      "text/plain": [
       "14.000300000063248"
      ]
     },
     "execution_count": 36,
     "metadata": {},
     "output_type": "execute_result"
    }
   ],
   "source": [
    "h = 0.0001\n",
    "x = 3\n",
    "(f(x + h) - f(x))/h"
   ]
  },
  {
   "cell_type": "code",
   "execution_count": 34,
   "id": "1ec516cc",
   "metadata": {},
   "outputs": [
    {
     "name": "stdout",
     "output_type": "stream",
     "text": [
      "4.0\n"
     ]
    }
   ],
   "source": [
    "# getting a little complex\n",
    "a = 2.0\n",
    "b = -3.0\n",
    "c = 10.0\n",
    "d = a*b + c\n",
    "print(d)"
   ]
  },
  {
   "cell_type": "code",
   "execution_count": 41,
   "id": "cd859d0f",
   "metadata": {},
   "outputs": [
    {
     "name": "stdout",
     "output_type": "stream",
     "text": [
      "d1 4.0\n",
      "d2 4.0002\n",
      "Slope  2.0000000000042206\n"
     ]
    }
   ],
   "source": [
    "h = 0.0001\n",
    "\n",
    "# inputs \n",
    "a = 2.0\n",
    "b = -3.0\n",
    "c = 10.0\n",
    "\n",
    "d1 = a*b + c\n",
    "b += h\n",
    "d2 = a*b + c\n",
    "print(\"d1\", d1)\n",
    "print(\"d2\", d2)\n",
    "print(\"Slope \", (d2 - d1)/h)"
   ]
  },
  {
   "cell_type": "code",
   "execution_count": 45,
   "id": "4d05f5c4",
   "metadata": {},
   "outputs": [
    {
     "data": {
      "text/plain": [
       "Value (data=-1.0)"
      ]
     },
     "execution_count": 45,
     "metadata": {},
     "output_type": "execute_result"
    }
   ],
   "source": [
    "class Value:\n",
    "    def __init__(self, data):\n",
    "        self.data = data\n",
    "    \n",
    "    def __repr__(self):\n",
    "        return f\"Value (data={self.data})\"\n",
    "    \n",
    "    def __add__(self, other):\n",
    "        out = Value(self.data + other.data)\n",
    "        return out\n",
    "    \n",
    "a = Value(2.0)\n",
    "b = Value(-3.0)\n",
    "a.__add__(b)"
   ]
  }
 ],
 "metadata": {
  "kernelspec": {
   "display_name": "venv",
   "language": "python",
   "name": "python3"
  },
  "language_info": {
   "codemirror_mode": {
    "name": "ipython",
    "version": 3
   },
   "file_extension": ".py",
   "mimetype": "text/x-python",
   "name": "python",
   "nbconvert_exporter": "python",
   "pygments_lexer": "ipython3",
   "version": "3.14.0"
  }
 },
 "nbformat": 4,
 "nbformat_minor": 5
}
