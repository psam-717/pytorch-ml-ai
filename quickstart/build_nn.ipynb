{
 "cells": [
  {
   "cell_type": "markdown",
   "id": "ac5f41cf",
   "metadata": {},
   "source": [
    "# Building a neural network"
   ]
  },
  {
   "cell_type": "code",
   "execution_count": 70,
   "id": "88b16875",
   "metadata": {},
   "outputs": [],
   "source": [
    "import os\n",
    "import torch\n",
    "from torch import nn\n",
    "from torch.utils.data import DataLoader\n",
    "from torchvision import transforms, datasets"
   ]
  },
  {
   "cell_type": "code",
   "execution_count": 71,
   "id": "5c2eaafd",
   "metadata": {},
   "outputs": [
    {
     "name": "stdout",
     "output_type": "stream",
     "text": [
      "Device being used is cpu\n"
     ]
    }
   ],
   "source": [
    "# get the device\n",
    "device = torch.device(\"cuda\" if torch.cuda.is_available() else \"cpu\")\n",
    "print(f\"Device being used is {device}\")"
   ]
  },
  {
   "cell_type": "code",
   "execution_count": 72,
   "id": "81ab3336",
   "metadata": {},
   "outputs": [],
   "source": [
    "# define the neural network class\n",
    "class NeuralNetwork(nn.Module):\n",
    "    def __init__(self):\n",
    "        super().__init__()\n",
    "        self.flatten = nn.Flatten()\n",
    "        self.linear_relu_stack = nn.Sequential(\n",
    "            nn.Linear(28*28, 512),\n",
    "            nn.ReLU(),\n",
    "            nn.Linear(512, 512),\n",
    "            nn.ReLU(),\n",
    "            nn.Linear(512, 10)\n",
    "        )\n",
    "    \n",
    "    def forward(self, x):\n",
    "        x = self.flatten(x)\n",
    "        logits = self.linear_relu_stack(x)\n",
    "        return logits"
   ]
  },
  {
   "cell_type": "code",
   "execution_count": 73,
   "id": "8d6ea295",
   "metadata": {},
   "outputs": [
    {
     "name": "stdout",
     "output_type": "stream",
     "text": [
      "NeuralNetwork(\n",
      "  (flatten): Flatten(start_dim=1, end_dim=-1)\n",
      "  (linear_relu_stack): Sequential(\n",
      "    (0): Linear(in_features=784, out_features=512, bias=True)\n",
      "    (1): ReLU()\n",
      "    (2): Linear(in_features=512, out_features=512, bias=True)\n",
      "    (3): ReLU()\n",
      "    (4): Linear(in_features=512, out_features=10, bias=True)\n",
      "  )\n",
      ")\n"
     ]
    }
   ],
   "source": [
    "model = NeuralNetwork().to(device)\n",
    "print(model)"
   ]
  },
  {
   "cell_type": "code",
   "execution_count": 74,
   "id": "923340a7",
   "metadata": {},
   "outputs": [
    {
     "name": "stdout",
     "output_type": "stream",
     "text": [
      "Predicted class: tensor([6])\n"
     ]
    }
   ],
   "source": [
    "X = torch.rand(1, 28, 28, device=device) # simulate a grayscale image\n",
    "logits = model(X) # pass it through the model to get an output of 10 digits\n",
    "# the logit output are not yet probabilities since some values are negative \n",
    "pred_probab = nn.Softmax(dim=1)(logits) # convert the logit to into probabilities that sum up to 1 \n",
    "y_pred = pred_probab.argmax(1) # get the index of the highest prob for each input\n",
    "print(f\"Predicted class: {y_pred}\")"
   ]
  },
  {
   "cell_type": "code",
   "execution_count": 75,
   "id": "0e2cdda5",
   "metadata": {},
   "outputs": [
    {
     "name": "stdout",
     "output_type": "stream",
     "text": [
      "torch.Size([3, 28, 28])\n"
     ]
    }
   ],
   "source": [
    "input_image = torch.rand(3, 28, 28)\n",
    "print(input_image.size())"
   ]
  },
  {
   "cell_type": "code",
   "execution_count": 76,
   "id": "f5a474b3",
   "metadata": {},
   "outputs": [
    {
     "name": "stdout",
     "output_type": "stream",
     "text": [
      "torch.Size([3, 784])\n"
     ]
    }
   ],
   "source": [
    "# flatten a multi-dimensional tensor into a 1D vector\n",
    "flatten = nn.Flatten()\n",
    "flat_image = flatten(input_image)\n",
    "print(flat_image.size())"
   ]
  },
  {
   "cell_type": "code",
   "execution_count": 77,
   "id": "f964ddd5",
   "metadata": {},
   "outputs": [
    {
     "name": "stdout",
     "output_type": "stream",
     "text": [
      "torch.Size([3, 20])\n"
     ]
    }
   ],
   "source": [
    "layer1 = nn.Linear(in_features=28*28, out_features=20) # take 784 input values and returns 20 outputs \n",
    "hidden1 = layer1(flat_image)\n",
    "print(hidden1.size())"
   ]
  },
  {
   "cell_type": "code",
   "execution_count": 78,
   "id": "8f0277a7",
   "metadata": {},
   "outputs": [
    {
     "name": "stdout",
     "output_type": "stream",
     "text": [
      "Before ReLU:\n",
      " tensor([[-1.2345e+00, -3.7790e-01,  2.2664e-01,  6.3286e-01, -5.0647e-02,\n",
      "          1.0906e-01,  3.8134e-01, -1.9736e-01,  2.0640e-01, -7.4909e-01,\n",
      "         -3.6762e-01, -1.4567e-01, -4.5153e-02, -1.5251e-01, -1.6423e-02,\n",
      "          6.7859e-02,  4.1846e-01,  4.4700e-02,  5.2248e-01, -2.7520e-01],\n",
      "        [-5.4924e-01, -4.2060e-01,  4.1992e-01,  5.4909e-01, -2.0014e-01,\n",
      "          2.8171e-01,  9.7015e-02, -1.2606e-01,  2.6286e-03, -9.4798e-01,\n",
      "         -4.9811e-01, -4.1241e-01, -5.0770e-02,  5.0267e-01, -3.8323e-01,\n",
      "          6.7063e-02,  3.0656e-01, -2.7928e-01,  1.9145e-01, -1.8580e-01],\n",
      "        [-6.7371e-01, -3.1151e-01,  3.4633e-01,  3.7358e-01, -1.7281e-01,\n",
      "         -2.4576e-03, -1.1054e-02,  1.6607e-01,  3.3654e-01, -8.3080e-01,\n",
      "         -3.3401e-01, -2.5195e-01, -2.5135e-01, -1.1085e-01,  1.6782e-01,\n",
      "         -1.7132e-01,  4.2023e-01,  3.2289e-02,  2.2301e-01, -4.7621e-04]],\n",
      "       grad_fn=<AddmmBackward0>)\n",
      "\n",
      "After ReLU: \n",
      " tensor([[0.0000, 0.0000, 0.2266, 0.6329, 0.0000, 0.1091, 0.3813, 0.0000, 0.2064,\n",
      "         0.0000, 0.0000, 0.0000, 0.0000, 0.0000, 0.0000, 0.0679, 0.4185, 0.0447,\n",
      "         0.5225, 0.0000],\n",
      "        [0.0000, 0.0000, 0.4199, 0.5491, 0.0000, 0.2817, 0.0970, 0.0000, 0.0026,\n",
      "         0.0000, 0.0000, 0.0000, 0.0000, 0.5027, 0.0000, 0.0671, 0.3066, 0.0000,\n",
      "         0.1915, 0.0000],\n",
      "        [0.0000, 0.0000, 0.3463, 0.3736, 0.0000, 0.0000, 0.0000, 0.1661, 0.3365,\n",
      "         0.0000, 0.0000, 0.0000, 0.0000, 0.0000, 0.1678, 0.0000, 0.4202, 0.0323,\n",
      "         0.2230, 0.0000]], grad_fn=<ReluBackward0>)\n",
      "\n"
     ]
    }
   ],
   "source": [
    "# show the effect of the ReLU\n",
    "print(f\"Before ReLU:\\n {hidden1}\\n\")\n",
    "hidden1 = nn.ReLU()(hidden1)\n",
    "print(f\"After ReLU: \\n {hidden1}\\n\")"
   ]
  },
  {
   "cell_type": "code",
   "execution_count": 79,
   "id": "ca35a792",
   "metadata": {},
   "outputs": [],
   "source": [
    "seq_modules = nn.Sequential(\n",
    "    flatten,\n",
    "    layer1,\n",
    "    nn.ReLU(),\n",
    "    nn.Linear(20, 10)\n",
    ")\n",
    "input_image = torch.rand(3,28,28)\n",
    "logits = seq_modules(input_image)"
   ]
  },
  {
   "cell_type": "code",
   "execution_count": 81,
   "id": "7cf4977d",
   "metadata": {},
   "outputs": [],
   "source": [
    "softmax = nn.Softmax(dim=1)\n",
    "pred_probab = softmax(logits)"
   ]
  },
  {
   "cell_type": "code",
   "execution_count": 82,
   "id": "73f7fd16",
   "metadata": {},
   "outputs": [
    {
     "name": "stdout",
     "output_type": "stream",
     "text": [
      "Model structure: NeuralNetwork(\n",
      "  (flatten): Flatten(start_dim=1, end_dim=-1)\n",
      "  (linear_relu_stack): Sequential(\n",
      "    (0): Linear(in_features=784, out_features=512, bias=True)\n",
      "    (1): ReLU()\n",
      "    (2): Linear(in_features=512, out_features=512, bias=True)\n",
      "    (3): ReLU()\n",
      "    (4): Linear(in_features=512, out_features=10, bias=True)\n",
      "  )\n",
      ")\n",
      "Layer: linear_relu_stack.0.weight | Size: torch.Size([512, 784]) | Values: tensor([[ 0.0045, -0.0055,  0.0247,  ...,  0.0254,  0.0356,  0.0051],\n",
      "        [ 0.0069,  0.0282,  0.0252,  ..., -0.0237,  0.0086,  0.0068]],\n",
      "       grad_fn=<SliceBackward0>) \n",
      "\n",
      "Layer: linear_relu_stack.0.bias | Size: torch.Size([512]) | Values: tensor([-0.0084, -0.0111], grad_fn=<SliceBackward0>) \n",
      "\n",
      "Layer: linear_relu_stack.2.weight | Size: torch.Size([512, 512]) | Values: tensor([[-0.0021,  0.0397,  0.0178,  ...,  0.0427, -0.0148, -0.0300],\n",
      "        [ 0.0302,  0.0362,  0.0339,  ...,  0.0066,  0.0349,  0.0416]],\n",
      "       grad_fn=<SliceBackward0>) \n",
      "\n",
      "Layer: linear_relu_stack.2.bias | Size: torch.Size([512]) | Values: tensor([ 0.0102, -0.0275], grad_fn=<SliceBackward0>) \n",
      "\n",
      "Layer: linear_relu_stack.4.weight | Size: torch.Size([10, 512]) | Values: tensor([[-0.0172,  0.0384, -0.0319,  ..., -0.0226, -0.0326, -0.0094],\n",
      "        [-0.0362,  0.0024, -0.0059,  ..., -0.0418, -0.0221, -0.0063]],\n",
      "       grad_fn=<SliceBackward0>) \n",
      "\n",
      "Layer: linear_relu_stack.4.bias | Size: torch.Size([10]) | Values: tensor([-0.0334,  0.0046], grad_fn=<SliceBackward0>) \n",
      "\n"
     ]
    }
   ],
   "source": [
    "print(f\"Model structure: {model}\")\n",
    "for name, param in model.named_parameters():\n",
    "    print(f\"Layer: {name} | Size: {param.size()} | Values: {param[:2]} \\n\")"
   ]
  }
 ],
 "metadata": {
  "kernelspec": {
   "display_name": "venv",
   "language": "python",
   "name": "python3"
  },
  "language_info": {
   "codemirror_mode": {
    "name": "ipython",
    "version": 3
   },
   "file_extension": ".py",
   "mimetype": "text/x-python",
   "name": "python",
   "nbconvert_exporter": "python",
   "pygments_lexer": "ipython3",
   "version": "3.14.0"
  }
 },
 "nbformat": 4,
 "nbformat_minor": 5
}
